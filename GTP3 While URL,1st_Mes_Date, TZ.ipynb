{
 "cells": [
  {
   "cell_type": "code",
   "execution_count": 4,
   "metadata": {},
   "outputs": [
    {
     "name": "stdout",
     "output_type": "stream",
     "text": [
      "Всего сообщений: 4\n"
     ]
    }
   ],
   "source": [
    "import vk_api\n",
    "import datetime\n",
    "import pytz\n",
    "import json\n",
    "\n",
    "tz = pytz.timezone('Europe/Moscow')\n",
    "\n",
    "\n",
    "# Чтение токена из файла конфигурации\n",
    "with open('../../../access/config.json') as config_file:\n",
    "    config = json.load(config_file)\n",
    "\n",
    "token = config['vk_token_group']\n",
    "\n",
    "# создаем сессию API ВК\n",
    "vk_session = vk_api.VkApi(token=token)\n",
    "vk = vk_session.get_api()\n",
    "\n",
    "# список всех собеседников в сообществе\n",
    "dialogs = vk.messages.getConversations()\n",
    "messages_count = dialogs['count']\n",
    "print(f'Всего сообщений: {messages_count}')\n",
    "\n",
    "count = 200\n",
    "offset = 0\n",
    "\n",
    "# Зацикливаю поиск, сдвигая offset\n",
    "while offset < messages_count:\n",
    "    # собираю идентификаторы собеседников\n",
    "    dialogs = vk.messages.getConversations(count=count, offset=offset)['items']\n",
    "    all_interlocutors = [user['conversation']['peer']['id'] for user in dialogs]\n",
    "\n",
    "    # перебираем всех собеседников и получаем дату первого сообщения\n",
    "    for interlocutors in all_interlocutors:\n",
    "        history = vk.messages.getHistory(user_id=interlocutors, rev=1)\n",
    "        first_contact = history['items'][0]['date']\n",
    "        # Собираю по выбранному часовому поясу\n",
    "        date = datetime.datetime.fromtimestamp(first_contact, tz=pytz.utc).astimezone(tz)\n",
    "        # Вывожу результат\n",
    "        print(f\"vk.com/id{interlocutors}, {date.strftime('%Y-%m-%d, %H:%M:%S, %Z%z')}\")\n",
    "    offset = offset + count\n"
   ]
  },
  {
   "cell_type": "code",
   "execution_count": null,
   "metadata": {},
   "outputs": [],
   "source": []
  }
 ],
 "metadata": {
  "kernelspec": {
   "display_name": "Python 3 (ipykernel)",
   "language": "python",
   "name": "python3"
  },
  "language_info": {
   "codemirror_mode": {
    "name": "ipython",
    "version": 3
   },
   "file_extension": ".py",
   "mimetype": "text/x-python",
   "name": "python",
   "nbconvert_exporter": "python",
   "pygments_lexer": "ipython3",
   "version": "3.11.3"
  }
 },
 "nbformat": 4,
 "nbformat_minor": 2
}
